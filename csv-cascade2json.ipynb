{
 "cells": [
  {
   "cell_type": "code",
   "execution_count": 1,
   "metadata": {
    "scrolled": true
   },
   "outputs": [],
   "source": [
    "import csv \n",
    " \n",
    "f = open('test.csv', 'r',encoding='utf-8-sig')\n",
    "csvreader = csv.reader(f)\n",
    "data = list(csvreader)\n",
    "# print(data)"
   ]
  },
  {
   "cell_type": "code",
   "execution_count": 5,
   "metadata": {},
   "outputs": [],
   "source": [
    "from collections import OrderedDict\n",
    "\n",
    "bid = 200\n",
    "\n",
    "root = OrderedDict()\n",
    "root['name'] = 'md'\n",
    "root['value']= bid\n",
    "root['children'] = []\n",
    "\n",
    "def seplist(node, list):\n",
    "    global bid\n",
    "    if len(list) == 0:\n",
    "        return\n",
    "    elif list[0] == '':\n",
    "        return\n",
    "\n",
    "    if list[0] in map(lambda x: x['name'], node['children']):\n",
    "        travNode = 0\n",
    "        for child in node['children']:\n",
    "            if child['name'] == list[0]:\n",
    "                travNode = child\n",
    "                break;\n",
    "        seplist(child,list[1:])\n",
    "    else:\n",
    "        bid += 1\n",
    "        newNode = {'name':list[0],'value':bid,'children':[]}\n",
    "        node['children'].append(newNode)\n",
    "        seplist(newNode,list[1:])"
   ]
  },
  {
   "cell_type": "code",
   "execution_count": 6,
   "metadata": {},
   "outputs": [],
   "source": [
    "for row in data:\n",
    "    seplist(root,row)"
   ]
  },
  {
   "cell_type": "code",
   "execution_count": 7,
   "metadata": {},
   "outputs": [],
   "source": [
    "import json\n",
    "json_str = json.dumps(root, ensure_ascii=False, indent=4)\n",
    "with open('md.json', 'w') as json_file:\n",
    "    json_file.write(json_str)"
   ]
  }
 ],
 "metadata": {
  "kernelspec": {
   "display_name": "Python 3",
   "language": "python",
   "name": "python3"
  },
  "language_info": {
   "codemirror_mode": {
    "name": "ipython",
    "version": 3
   },
   "file_extension": ".py",
   "mimetype": "text/x-python",
   "name": "python",
   "nbconvert_exporter": "python",
   "pygments_lexer": "ipython3",
   "version": "3.7.4"
  }
 },
 "nbformat": 4,
 "nbformat_minor": 2
}
